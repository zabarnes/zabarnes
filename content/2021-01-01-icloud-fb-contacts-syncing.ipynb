{
 "cells": [
  {
   "cell_type": "code",
   "execution_count": null,
   "source": [
    "from selenium import webdriver\n",
    "from selenium.common.exceptions import TimeoutException\n",
    "from selenium.webdriver.common.by import By\n",
    "from selenium.webdriver.support.wait import WebDriverWait\n",
    "from selenium.webdriver.support import expected_conditions as EC\n",
    "\n",
    "\n",
    "class FacebookCrawler:\n",
    "    LOGIN_URL = 'https://www.facebook.com/login.php?login_attempt=1&lwv=111'\n",
    "\n",
    "    def __init__(self, login=None, password=None):\n",
    "        chrome_options = webdriver.ChromeOptions()\n",
    "        prefs = {\"profile.default_content_setting_values.notifications\": 2}\n",
    "        chrome_options.add_experimental_option(\"prefs\", prefs)\n",
    "\n",
    "        self.driver = webdriver.Chrome('./chromedriver')\n",
    "        self.wait = WebDriverWait(self.driver, 10)\n",
    "        \n",
    "        if login:\n",
    "            self.login(login, password)\n",
    "\n",
    "    def login(self, login, password):\n",
    "        self.driver.get(self.LOGIN_URL)\n",
    "\n",
    "        # wait for the login page to load\n",
    "        self.wait.until(EC.visibility_of_element_located((By.ID, \"email\")))\n",
    "\n",
    "        self.driver.find_element_by_id('email').send_keys(login)\n",
    "        self.driver.find_element_by_id('pass').send_keys(password)\n",
    "        self.driver.find_element_by_id('loginbutton').click()\n",
    "\n",
    "    def _get_friends_list(self):\n",
    "        #return self.driver.find_elements_by_css_selector(\".friendBrowserNameTitle > a\")\n",
    "        return self.driver.find_elements_by_class_name(\"_698\")\n",
    "\n",
    "    def get_friends(self):\n",
    "        # navigate to \"friends\" page\n",
    "        self.driver.get(\"https://www.facebook.com/zach.barnes.9/friends\")\n",
    "\n",
    "        # continuous scroll until no more new friends loaded\n",
    "        num_of_loaded_friends = len(self._get_friends_list())\n",
    "        print(self.driver.find_elements_by_class_name(\"_698\"))\n",
    "        print(self.driver.find_elements_by_class_name(\"_5qo4\"))\n",
    "        print(self.driver.find_elements_by_css_selector(By.cssSelector(\"img\")))\n",
    "        \n",
    "#         while True:\n",
    "#             self.driver.execute_script(\"window.scrollTo(0, document.body.scrollHeight);\")\n",
    "#             try:\n",
    "#                 self.wait.until(lambda driver: len(self._get_friends_list()) > num_of_loaded_friends)\n",
    "#                 num_of_loaded_friends = len(self._get_friends_list())\n",
    "#             except TimeoutException:\n",
    "#                 break  # no more friends loaded\n",
    "\n",
    "        return [friend.text for friend in self._get_friends_list()]"
   ],
   "outputs": [],
   "metadata": {}
  },
  {
   "cell_type": "code",
   "execution_count": null,
   "source": [
    "crawler = FacebookCrawler()\n",
    "crawler.login(login, password)"
   ],
   "outputs": [],
   "metadata": {}
  },
  {
   "cell_type": "code",
   "execution_count": null,
   "source": [
    "all_imgs = crawler.driver.find_elements_by_css_selector(\"img\")"
   ],
   "outputs": [],
   "metadata": {}
  },
  {
   "cell_type": "code",
   "execution_count": null,
   "source": [
    "len(all_imgs)"
   ],
   "outputs": [],
   "metadata": {}
  },
  {
   "cell_type": "code",
   "execution_count": null,
   "source": [
    "friend_list = []\n",
    "for friend in all_friends:\n",
    "    if len(friend.find_elements_by_css_selector(\"img\")) == 0:\n",
    "        continue\n",
    "    friend_dict = {}\n",
    "    friend_img = friend.find_elements_by_css_selector(\"img\")[0]\n",
    "    friend_dict['name'] = friend_img.get_attribute(\"aria-label\")\n",
    "    friend_dict['url'] = friend.get_attribute(\"href\")\n",
    "    friend_dict['img'] = friend_img.get_attribute(\"src\")\n",
    "    friend_list.append(friend_dict)"
   ],
   "outputs": [],
   "metadata": {}
  },
  {
   "cell_type": "code",
   "execution_count": null,
   "source": [
    "for friend in friend_list:\n",
    "    friend[\"clean_url\"] = friend[\"url\"].replace(\"?fref=profile_friend_list&hc_location=friends_tab\",\"\")"
   ],
   "outputs": [],
   "metadata": {}
  },
  {
   "cell_type": "code",
   "execution_count": null,
   "source": [
    "import time\n",
    "while(len(all_contacts_q) > 0):\n",
    "    name = all_contacts_q.pop()\n",
    "    if name in friend_lookup:\n",
    "        friend = friend_lookup[name]\n",
    "        crawler.driver.get(friend[\"clean_url\"]+\"/about\")\n",
    "        friend[\"data\"] = crawler.driver.find_elements_by_class_name(\"_4bl7\")[2].text\n",
    "        time.sleep(3)\n",
    "    else:\n",
    "        print(\"not found\", name)"
   ],
   "outputs": [],
   "metadata": {}
  },
  {
   "cell_type": "code",
   "execution_count": null,
   "source": [
    "fb_data[fb_data.data != \"nan\"]"
   ],
   "outputs": [],
   "metadata": {}
  },
  {
   "cell_type": "code",
   "execution_count": null,
   "source": [
    "table = driver.find_elements_by_id(\"sc1361\")[0]\n",
    "for _ in range(310):\n",
    "    current_contact = table.find_elements_by_class_name(\"sel\")[0]\n",
    "    driver.find_elements_by_id(\"sc1750\")[0].click()\n",
    "    \n",
    "    driver.execute_script(\"arguments[0].setAttribute('class','atv4 contacts sc1619 sc-view detail-row top bottom sc-static-layout')\", driver.find_elements_by_id(\"sc1923\")[0])\n",
    "    driver.execute_script(\"arguments[0].setAttribute('class','atv4 contacts sc1619 sc-view detail-row-container')\", driver.find_elements_by_id(\"sc1930\")[0])\n",
    "    driver.execute_script(\"arguments[0].setAttribute('class','atv4 contacts flat sc1619 sc-view sc-label-view detail-label flat-label label sc-regular-size')\", driver.find_elements_by_id(\"sc1932\")[0])\n",
    "    driver.execute_script(\"arguments[0].setAttribute('class','atv4 contacts sc1619 sc-view sc-label-view search-label detail-field allow-select sc-hidden label')\", driver.find_elements_by_id(\"sc1937\")[0])\n",
    "    driver.execute_script(\"arguments[0].setAttribute('class','atv4 contacts sc1619 sc-view sc-text-field-view detail-field text-field me-large-tall-size')\", driver.find_elements_by_id(\"sc3052\")[0])\n",
    "    \n",
    "    input_element = driver.find_elements_by_name(\"sc3052\")[0]\n",
    "    ActionChains(driver).move_to_element(input_element).click().perform()\n",
    "    ActionChains(driver).move_to_element(input_element).click().perform()\n",
    "    input_element.clear()\n",
    "    \n",
    "    try:\n",
    "        birthday = fb_data[fb_data.name==current_contact.text].birthday.values[0]\n",
    "        input_element.send_keys(birthday)\n",
    "\n",
    "    except:\n",
    "        print(current_contact.text)\n",
    "        \n",
    "    driver.find_elements_by_id(\"sc2025\")[0].click()\n",
    "    current_contact.send_keys(Keys.DOWN)"
   ],
   "outputs": [],
   "metadata": {}
  },
  {
   "cell_type": "code",
   "execution_count": null,
   "source": [
    "import  urllib\n",
    "for index,row in fb_data.iterrows():\n",
    "    path = \"imgs/\"+str(row[\"name\"]).replace(\" \", \"_\") + \".jpg\"\n",
    "    urllib.urlretrieve(row.img, path)\n",
    "    fb_data[\"pic_path\"][index] = path"
   ],
   "outputs": [],
   "metadata": {}
  },
  {
   "cell_type": "code",
   "execution_count": null,
   "source": [
    "chrome_options = webdriver.ChromeOptions()\n",
    "prefs = {\"profile.default_content_setting_values.notifications\": 2}\n",
    "chrome_options.add_experimental_option(\"prefs\", prefs)\n",
    "\n",
    "driver = webdriver.Chrome('./chromedriver')\n",
    "wait = WebDriverWait(driver, 10)"
   ],
   "outputs": [],
   "metadata": {}
  },
  {
   "cell_type": "code",
   "execution_count": null,
   "source": [
    "driver.get(\"https://www.icloud.com/contacts/\")"
   ],
   "outputs": [],
   "metadata": {}
  },
  {
   "cell_type": "code",
   "execution_count": null,
   "source": [
    "frame = driver.find_element_by_id('contacts')\n",
    "driver.switch_to.frame(frame)"
   ],
   "outputs": [],
   "metadata": {}
  },
  {
   "cell_type": "code",
   "execution_count": null,
   "source": [
    "table = driver.find_elements_by_id(\"sc1361\")[0]\n",
    "for _ in range(310):\n",
    "    current_contact = table.find_elements_by_class_name(\"sel\")[0]\n",
    "    try:\n",
    "        pic_path = fb_data[fb_data.name==current_contact.text].pic_path.values[0]\n",
    "        \n",
    "        try:\n",
    "            driver.find_elements_by_id(\"sc1750\")[0].click()\n",
    "            driver.find_elements_by_id(\"sc1803\")[0].click()\n",
    "            time.sleep(2)\n",
    "            file_input = driver.find_elements_by_xpath(\"//input[@class = 'file-input']\")[0]\n",
    "            file_input.send_keys(os.path.abspath(pic_path))\n",
    "            time.sleep(2)\n",
    "            #done = driver.find_elements_by_xpath('//label[contains(text(), \"Done\")]')[0]\n",
    "            #done.find_element_by_xpath(\"./..\").click()\n",
    "#             file_input.send_keys(Keys.RETURN)\n",
    "#             file_input.submit()\n",
    "\n",
    "            actions = ActionChains(driver)\n",
    "            actions.send_keys(Keys.ENTER)\n",
    "            actions.perform()\n",
    "        \n",
    "            time.sleep(3)\n",
    "            driver.find_elements_by_id(\"sc2025\")[0].click()\n",
    "            time.sleep(2)\n",
    "            \n",
    "        except Exception as e:\n",
    "            print(\"Couldnt add\")\n",
    "            print(e)\n",
    "            break\n",
    "    \n",
    "    except:\n",
    "        print(\"no img\", current_contact.text)\n",
    "            \n",
    "    current_contact.send_keys(Keys.DOWN)"
   ],
   "outputs": [],
   "metadata": {}
  }
 ],
 "metadata": {
  "orig_nbformat": 4,
  "language_info": {
   "name": "python"
  }
 },
 "nbformat": 4,
 "nbformat_minor": 2
}